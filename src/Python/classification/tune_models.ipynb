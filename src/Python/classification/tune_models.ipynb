{
 "cells": [
  {
   "cell_type": "code",
   "execution_count": 6,
   "metadata": {
    "pycharm": {
     "is_executing": false
    }
   },
   "outputs": [
    {
     "name": "stdout",
     "text": [
      "Working directory: C:\\git\\MachineLearning\\Project\\InteractionsClassification\\src\\classification\n"
     ],
     "output_type": "stream"
    }
   ],
   "source": [
    "import os, sys\n",
    "print(f\"Working directory: {os.getcwd()}\")\n",
    "\n",
    "sys.path.append(os.getcwd().replace(f\"\\classification\", \"\"))\n",
    "# [path for path in sys.path]"
   ]
  },
  {
   "cell_type": "code",
   "execution_count": 7,
   "metadata": {
    "pycharm": {
     "is_executing": false,
     "name": "#%%\n"
    }
   },
   "outputs": [
    {
     "name": "stdout",
     "text": [
      "Reading config from:  C:\\git\\MachineLearning\\Project\\InteractionsClassification\\src\\classification\n\nConfiguration READY\nCreating dataset from STRING...\nCreating features...\n",
      "Features READY\nCreating targets...\nReading Reactome unique interactions...\n",
      "Reactome interactions READY\n",
      "Added index to targets.\n"
     ],
     "output_type": "stream"
    }
   ],
   "source": [
    "from dataset.dataset_loader import get_train_and_test_X_y\n",
    "path_to_root = \"../../\"\n",
    "X_train, X_test, y_train, y_test = get_train_and_test_X_y(path_to_root)  # Load dataset"
   ]
  },
  {
   "cell_type": "code",
   "execution_count": 8,
   "outputs": [
    {
     "data": {
      "text/plain": "['stochastic gradient descent classifier', 'random forest classifier']"
     },
     "metadata": {},
     "output_type": "execute_result",
     "execution_count": 8
    }
   ],
   "source": [
    "selected_models = [\n",
    "    \"stochastic gradient descent classifier\",\n",
    "    \"random forest classifier\",\n",
    "    # \"k nearest neighbors classifier\",\n",
    "    # \"radius neighbors classifier\",\n",
    "    # \"support vector classifier\"\n",
    "]\n",
    "selected_models"
   ],
   "metadata": {
    "collapsed": false,
    "pycharm": {
     "name": "#%%\n",
     "is_executing": false
    }
   }
  },
  {
   "cell_type": "code",
   "execution_count": 9,
   "outputs": [
    {
     "name": "stdout",
     "text": [
      "Working directory: C:\\git\\MachineLearning\\Project\\InteractionsClassification\\src\\classification\nTuning model stochastic gradient descent classifier...\nInitial model loaded...\n"
     ],
     "output_type": "stream"
    },
    {
     "traceback": [
      "\u001b[1;31m---------------------------------------------------------------------------\u001b[0m",
      "\u001b[1;31mTypeError\u001b[0m                                 Traceback (most recent call last)",
      "\u001b[1;32m<ipython-input-9-f75f2fa17a7d>\u001b[0m in \u001b[0;36m<module>\u001b[1;34m\u001b[0m\n\u001b[0;32m      6\u001b[0m \u001b[1;33m\u001b[0m\u001b[0m\n\u001b[0;32m      7\u001b[0m \u001b[0mprint\u001b[0m\u001b[1;33m(\u001b[0m\u001b[1;34mf\"Working directory: {os.getcwd()}\"\u001b[0m\u001b[1;33m)\u001b[0m\u001b[1;33m\u001b[0m\u001b[1;33m\u001b[0m\u001b[0m\n\u001b[1;32m----> 8\u001b[1;33m \u001b[0mtune_models\u001b[0m\u001b[1;33m(\u001b[0m\u001b[1;34m\"../../\"\u001b[0m\u001b[1;33m,\u001b[0m \u001b[0mselected_models\u001b[0m\u001b[1;33m,\u001b[0m \u001b[0mX_train\u001b[0m\u001b[1;33m,\u001b[0m \u001b[0my_train\u001b[0m\u001b[1;33m)\u001b[0m\u001b[1;33m\u001b[0m\u001b[1;33m\u001b[0m\u001b[0m\n\u001b[0m\u001b[0;32m      9\u001b[0m \u001b[0mprint\u001b[0m\u001b[1;33m(\u001b[0m\u001b[1;34m\"Finished\"\u001b[0m\u001b[1;33m)\u001b[0m\u001b[1;33m\u001b[0m\u001b[1;33m\u001b[0m\u001b[0m\n",
      "\u001b[1;32mC:\\git\\MachineLearning\\Project\\InteractionsClassification\\src\\classification\\model_tuning.py\u001b[0m in \u001b[0;36mtune_models\u001b[1;34m(path_to_root, selected_models, X_train, y_train)\u001b[0m\n\u001b[0;32m     33\u001b[0m                                            \u001b[0mn_iter\u001b[0m\u001b[1;33m=\u001b[0m\u001b[0mconfig\u001b[0m\u001b[1;33m.\u001b[0m\u001b[0mn_iter_search\u001b[0m\u001b[1;33m,\u001b[0m\u001b[1;33m\u001b[0m\u001b[1;33m\u001b[0m\u001b[0m\n\u001b[0;32m     34\u001b[0m                                            cv=config.cv, iid=False)\n\u001b[1;32m---> 35\u001b[1;33m         \u001b[0mstart\u001b[0m \u001b[1;33m=\u001b[0m \u001b[0mtime\u001b[0m\u001b[1;33m(\u001b[0m\u001b[1;33m)\u001b[0m\u001b[1;33m\u001b[0m\u001b[1;33m\u001b[0m\u001b[0m\n\u001b[0m\u001b[0;32m     36\u001b[0m         \u001b[0mprint\u001b[0m\u001b[1;33m(\u001b[0m\u001b[1;34m\"Training best model...\"\u001b[0m\u001b[1;33m)\u001b[0m\u001b[1;33m\u001b[0m\u001b[1;33m\u001b[0m\u001b[0m\n\u001b[0;32m     37\u001b[0m         \u001b[0mrandom_search\u001b[0m\u001b[1;33m.\u001b[0m\u001b[0mfit\u001b[0m\u001b[1;33m(\u001b[0m\u001b[0mX_train\u001b[0m\u001b[1;33m,\u001b[0m \u001b[0my_train\u001b[0m\u001b[1;33m)\u001b[0m\u001b[1;33m\u001b[0m\u001b[1;33m\u001b[0m\u001b[0m\n",
      "\u001b[1;31mTypeError\u001b[0m: precision_score() missing 2 required positional arguments: 'y_true' and 'y_pred'"
     ],
     "ename": "TypeError",
     "evalue": "precision_score() missing 2 required positional arguments: 'y_true' and 'y_pred'",
     "output_type": "error"
    }
   ],
   "source": [
    "import importlib\n",
    "from classification import model_tuning\n",
    "from classification.model_tuning import tune_models\n",
    "\n",
    "importlib.reload(model_tuning)\n",
    "\n",
    "print(f\"Working directory: {os.getcwd()}\")\n",
    "tune_models(\"../../\", selected_models, X_train, y_train)\n",
    "print(\"Finished\")"
   ],
   "metadata": {
    "collapsed": false,
    "pycharm": {
     "name": "#%%\n",
     "is_executing": false
    }
   }
  }
 ],
 "metadata": {
  "kernelspec": {
   "display_name": "PyCharm (InteractionsClassification)",
   "language": "python",
   "name": "pycharm-c08ea610"
  },
  "language_info": {
   "codemirror_mode": {
    "name": "ipython",
    "version": 3
   },
   "file_extension": ".py",
   "mimetype": "text/x-python",
   "name": "python",
   "nbconvert_exporter": "python",
   "pygments_lexer": "ipython3",
   "version": "3.7.4"
  },
  "pycharm": {
   "stem_cell": {
    "cell_type": "raw",
    "source": [],
    "metadata": {
     "collapsed": false
    }
   }
  }
 },
 "nbformat": 4,
 "nbformat_minor": 2
}