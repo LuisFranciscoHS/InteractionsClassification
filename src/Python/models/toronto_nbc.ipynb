{
 "cells": [
  {
   "cell_type": "code",
   "execution_count": 2,
   "metadata": {
    "collapsed": true,
    "pycharm": {
     "name": "#%% Import statements and flags\n",
     "is_executing": false
    }
   },
   "outputs": [
    {
     "data": {
      "text/plain": "<module 'Python.generic.datasets' from 'C:\\\\git\\\\InteractionsClassification\\\\src\\\\Python\\\\generic\\\\datasets.py'>"
     },
     "metadata": {},
     "output_type": "execute_result",
     "execution_count": 2
    }
   ],
   "source": [
    "import importlib\n",
    "import numpy as np\n",
    "from Python.generic import datasets\n",
    "\n",
    "from src.Python import config\n",
    "from src.Python.datasets import toronto, intact, reactome\n",
    "\n",
    "importlib.reload(config)\n",
    "importlib.reload(toronto)\n",
    "importlib.reload(intact)\n",
    "importlib.reload(reactome)\n",
    "importlib.reload(datasets)"
   ]
  },
  {
   "cell_type": "code",
   "execution_count": 3,
   "outputs": [
    {
     "name": "stdout",
     "text": [
      "Working directory: c:\\git\\interactionsclassification\n"
     ],
     "output_type": "stream"
    }
   ],
   "source": [
    "config.set_root_wd()"
   ],
   "metadata": {
    "collapsed": false,
    "pycharm": {
     "name": "#%% Set working directory to the root of repository\n",
     "is_executing": false
    }
   }
  },
  {
   "cell_type": "code",
   "execution_count": 4,
   "outputs": [
    {
     "name": "stdout",
     "text": [
      "Reading Reactome unique interactions...\n",
      "Reactome interactions READY\n",
      "Intact interactions for  9606  READY\n",
      "Biogrid protein interactions READY\nBiogrid protein interactions READY\nBiogrid protein interactions READY\n",
      "Intact interactions for  4932  READY\nBiogrid protein interactions READY\n X_train:\t (50, 6) \ty_train:\t (50,) \n X_test:\t (50, 6) \ty_test:\t (50,)\n"
     ],
     "output_type": "stream"
    }
   ],
   "source": [
    "X_train, X_test, y_train, y_test =  toronto.load_data(num_ppis=100)\n",
    "print(\" X_train:\\t\", X_train.shape, \n",
    "      \"\\ty_train:\\t\", y_train.shape, \"\\n\",\n",
    "      \"X_test:\\t\", X_test.shape, \n",
    "      \"\\ty_test:\\t\", y_test.shape)"
   ],
   "metadata": {
    "collapsed": false,
    "pycharm": {
     "name": "#%% Load data\n",
     "is_executing": false
    }
   }
  },
  {
   "cell_type": "code",
   "execution_count": 5,
   "outputs": [],
   "source": [
    "df = datasets.save(X_train, X_test, y_train, y_test, config.PATH_DATASETS, config.FILE_DATASET_TORONTO)"
   ],
   "metadata": {
    "collapsed": false,
    "pycharm": {
     "name": "#%%\n",
     "is_executing": false
    }
   }
  },
  {
   "cell_type": "code",
   "execution_count": 5,
   "outputs": [
    {
     "name": "stdout",
     "text": [
      "Frequency of unique values of the said array:\n[[ 0  1]\n [97  3]]\n"
     ],
     "output_type": "stream"
    }
   ],
   "source": [
    "unique_elements, counts_elements = np.unique(X_train, return_counts=True)\n",
    "print(\"Frequency of unique values of the said array:\")\n",
    "print(np.asarray((unique_elements, counts_elements)))"
   ],
   "metadata": {
    "collapsed": false,
    "pycharm": {
     "name": "#%%\n",
     "is_executing": false
    }
   }
  },
  {
   "cell_type": "code",
   "execution_count": null,
   "outputs": [],
   "source": [
    "#gnb = GaussianNB()"
   ],
   "metadata": {
    "collapsed": false,
    "pycharm": {
     "name": "#%% Create model\n",
     "is_executing": false
    }
   }
  },
  {
   "cell_type": "code",
   "execution_count": null,
   "outputs": [],
   "source": [
    "#gnb.fit(X_train, y_train)\n",
    "\n",
    "#y_pred = gnb.predict([[-0.8, -1]])"
   ],
   "metadata": {
    "collapsed": false,
    "pycharm": {
     "name": "#%% Train model\n",
     "is_executing": false
    }
   }
  },
  {
   "cell_type": "code",
   "execution_count": null,
   "outputs": [],
   "source": [
    "#print(\"Number of mislabeled points out of a total %d points : %d\"\n",
    "#      % (X_test.shape[0], (y_test != y_pred).sum()))\n"
   ],
   "metadata": {
    "collapsed": false,
    "pycharm": {
     "name": "#%% Evaluate model\n",
     "is_executing": false
    }
   }
  },
  {
   "cell_type": "code",
   "execution_count": 6,
   "outputs": [
    {
     "name": "stdout",
     "text": [
      "Creating biogrid protein interaction file...\nExtracting human gene interactions file...\n",
      "File Biogrid ggi READY\n",
      "  Converting genes 0 to 1000\n",
      "  Converting genes 1000 to 2000\n",
      "  Converting genes 2000 to 3000\n",
      "  Converting genes 3000 to 4000\n",
      "  Converting genes 4000 to 5000\n",
      "  Converting genes 5000 to 6000\n",
      "  Converting genes 6000 to 7000\n",
      "  Converting genes 7000 to 8000\n",
      "  Converting genes 8000 to 9000\n",
      "  Converting genes 9000 to 10000\n",
      "  Converting genes 10000 to 11000\n",
      "  Converting genes 11000 to 12000\n",
      "  Converting genes 12000 to 13000\n",
      "  Converting genes 13000 to 14000\n",
      "  Converting genes 14000 to 15000\n",
      "  Converting genes 15000 to 16000\n",
      "  Converting genes 16000 to 17000\n",
      "  Converting genes 17000 to 18000\n",
      "  Converting genes 18000 to 19000\n",
      "  Converting genes 19000 to 20000\n",
      "  Converting genes 20000 to 21000\n",
      "  Converting genes 21000 to 22000\n",
      "  Converting genes 22000 to 23000\n",
      "  Converting genes 23000 to 24000\n",
      "  Converting genes 24000 to 24524\n",
      "Gene --> Protein mapping READY\n",
      "Biogrid protein interactions READY\n"
     ],
     "output_type": "stream"
    }
   ],
   "source": [
    "from Python.datasets import biogrid\n",
    "\n",
    "biogrid_ppis = biogrid.get_ppis()"
   ],
   "metadata": {
    "collapsed": false,
    "pycharm": {
     "name": "#%%\n",
     "is_executing": false
    }
   }
  },
  {
   "cell_type": "code",
   "execution_count": 8,
   "outputs": [
    {
     "data": {
      "text/plain": "33863"
     },
     "metadata": {},
     "output_type": "execute_result",
     "execution_count": 8
    }
   ],
   "source": [],
   "metadata": {
    "collapsed": false,
    "pycharm": {
     "name": "#%%\n",
     "is_executing": false
    }
   }
  },
  {
   "cell_type": "code",
   "execution_count": null,
   "outputs": [],
   "source": [
    "\n"
   ],
   "metadata": {
    "collapsed": false,
    "pycharm": {
     "name": "#%%\n"
    }
   }
  }
 ],
 "metadata": {
  "kernelspec": {
   "display_name": "Python 3",
   "language": "python",
   "name": "python3"
  },
  "language_info": {
   "codemirror_mode": {
    "name": "ipython",
    "version": 2
   },
   "file_extension": ".py",
   "mimetype": "text/x-python",
   "name": "python",
   "nbconvert_exporter": "python",
   "pygments_lexer": "ipython2",
   "version": "2.7.6"
  },
  "pycharm": {
   "stem_cell": {
    "cell_type": "raw",
    "source": [],
    "metadata": {
     "collapsed": false
    }
   }
  }
 },
 "nbformat": 4,
 "nbformat_minor": 0
}