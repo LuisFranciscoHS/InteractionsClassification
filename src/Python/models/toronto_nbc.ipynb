{
 "cells": [
  {
   "cell_type": "code",
   "execution_count": 174,
   "metadata": {
    "collapsed": true,
    "pycharm": {
     "name": "#%% Import statements and flags\n",
     "is_executing": false
    }
   },
   "outputs": [
    {
     "data": {
      "text/plain": "<module 'src.Python.datasets.reactome' from 'C:\\\\git\\\\InteractionsClassification\\\\src\\\\Python\\\\datasets\\\\reactome.py'>"
     },
     "metadata": {},
     "output_type": "execute_result",
     "execution_count": 174
    }
   ],
   "source": [
    "import importlib\n",
    "import random\n",
    "import numpy as np\n",
    "\n",
    "import pandas as pd\n",
    "\n",
    "from src.Python import config\n",
    "from src.Python.datasets import toronto, intact, reactome\n",
    "from src.Python.datasets.toronto import set_column\n",
    "from src.Python.lib.dictionaries import flatten_dictionary\n",
    "importlib.reload(config)\n",
    "importlib.reload(toronto)\n",
    "importlib.reload(intact)\n",
    "importlib.reload(reactome)"
   ]
  },
  {
   "cell_type": "code",
   "execution_count": 175,
   "outputs": [
    {
     "name": "stdout",
     "text": [
      "Working directory: c:\\git\\interactionsclassification\n"
     ],
     "output_type": "stream"
    }
   ],
   "source": [
    "config.set_root_wd()"
   ],
   "metadata": {
    "collapsed": false,
    "pycharm": {
     "name": "#%% Set working directory to the root of repository\n",
     "is_executing": false
    }
   }
  },
  {
   "cell_type": "code",
   "execution_count": 176,
   "outputs": [
    {
     "name": "stdout",
     "text": [
      "Reading Reactome unique interactions...\n",
      "Reactome interactions READY\n",
      "Intact interactions for  9606  READY\n",
      "Intact interactions for  4932  READY\n X_train:\t (50, 2) \ty_train:\t (50,) \n X_test:\t (50, 2) \ty_test:\t (50,)\n"
     ],
     "output_type": "stream"
    }
   ],
   "source": [
    "X_train, X_test, y_train, y_test =  toronto.load_data(num_ppis=100)\n",
    "print(\" X_train:\\t\", X_train.shape, \n",
    "      \"\\ty_train:\\t\", y_train.shape, \"\\n\",\n",
    "      \"X_test:\\t\", X_test.shape, \n",
    "      \"\\ty_test:\\t\", y_test.shape)"
   ],
   "metadata": {
    "collapsed": false,
    "pycharm": {
     "name": "#%% Load data\n",
     "is_executing": false
    }
   }
  },
  {
   "cell_type": "code",
   "execution_count": 177,
   "outputs": [
    {
     "name": "stdout",
     "text": [
      "Frequency of unique values of the said array:\n[[  0]\n [100]]\n"
     ],
     "output_type": "stream"
    }
   ],
   "source": [
    "unique_elements, counts_elements = np.unique(X_train, return_counts=True)\n",
    "print(\"Frequency of unique values of the said array:\")\n",
    "print(np.asarray((unique_elements, counts_elements)))"
   ],
   "metadata": {
    "collapsed": false,
    "pycharm": {
     "name": "#%%\n",
     "is_executing": false
    }
   }
  },
  {
   "cell_type": "code",
   "execution_count": null,
   "outputs": [],
   "source": [
    "#gnb = GaussianNB()"
   ],
   "metadata": {
    "collapsed": false,
    "pycharm": {
     "name": "#%% Create model\n",
     "is_executing": false
    }
   }
  },
  {
   "cell_type": "code",
   "execution_count": null,
   "outputs": [],
   "source": [
    "#gnb.fit(X_train, y_train)\n",
    "\n",
    "#y_pred = gnb.predict([[-0.8, -1]])"
   ],
   "metadata": {
    "collapsed": false,
    "pycharm": {
     "name": "#%% Train model\n",
     "is_executing": false
    }
   }
  },
  {
   "cell_type": "code",
   "execution_count": null,
   "outputs": [],
   "source": [
    "#print(\"Number of mislabeled points out of a total %d points : %d\"\n",
    "#      % (X_test.shape[0], (y_test != y_pred).sum()))\n"
   ],
   "metadata": {
    "collapsed": false,
    "pycharm": {
     "name": "#%% Evaluate model\n",
     "is_executing": false
    }
   }
  },
  {
   "cell_type": "code",
   "execution_count": null,
   "outputs": [],
   "source": [
    "\n"
   ],
   "metadata": {
    "collapsed": false,
    "pycharm": {
     "name": "#%%\n",
     "is_executing": false
    }
   }
  }
 ],
 "metadata": {
  "kernelspec": {
   "display_name": "Python 3",
   "language": "python",
   "name": "python3"
  },
  "language_info": {
   "codemirror_mode": {
    "name": "ipython",
    "version": 2
   },
   "file_extension": ".py",
   "mimetype": "text/x-python",
   "name": "python",
   "nbconvert_exporter": "python",
   "pygments_lexer": "ipython2",
   "version": "2.7.6"
  },
  "pycharm": {
   "stem_cell": {
    "cell_type": "raw",
    "source": [],
    "metadata": {
     "collapsed": false
    }
   }
  }
 },
 "nbformat": 4,
 "nbformat_minor": 0
}