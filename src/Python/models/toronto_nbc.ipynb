{
 "cells": [
  {
   "cell_type": "code",
   "execution_count": 18,
   "metadata": {
    "collapsed": true,
    "pycharm": {
     "name": "#%% Import statements and flags\n",
     "is_executing": false
    }
   },
   "outputs": [
    {
     "data": {
      "text/plain": "<module 'Python.generic.dictionaries' from 'C:\\\\git\\\\InteractionsClassification\\\\src\\\\Python\\\\generic\\\\dictionaries.py'>"
     },
     "metadata": {},
     "output_type": "execute_result",
     "execution_count": 18
    }
   ],
   "source": [
    "import importlib\n",
    "import numpy as np\n",
    "from Python.datasets import coxpresdb\n",
    "from Python.generic import datasets, dictionaries\n",
    "from Python.generic.conversions import create_mapping\n",
    "from Python.generic.dictionaries import convert_dict_to_set, read_dictionary_one_to_set, invert, flatten\n",
    "\n",
    "from src.Python import config\n",
    "from src.Python.datasets import toronto, intact, reactome\n",
    "\n",
    "importlib.reload(config)\n",
    "importlib.reload(toronto)\n",
    "importlib.reload(intact)\n",
    "importlib.reload(reactome)\n",
    "importlib.reload(datasets)\n",
    "importlib.reload(coxpresdb)\n",
    "importlib.reload(dictionaries)"
   ]
  },
  {
   "cell_type": "code",
   "execution_count": 14,
   "outputs": [
    {
     "name": "stdout",
     "text": [
      "Working directory: c:\\git\\interactionsclassification\n"
     ],
     "output_type": "stream"
    }
   ],
   "source": [
    "config.set_root_wd()"
   ],
   "metadata": {
    "collapsed": false,
    "pycharm": {
     "name": "#%% Set working directory to the root of repository\n",
     "is_executing": false
    }
   }
  },
  {
   "cell_type": "code",
   "execution_count": 15,
   "outputs": [
    {
     "name": "stdout",
     "text": [
      "Reading Reactome unique interactions...\n",
      "Reactome interactions READY\nACC --> P_ENTREZGENEID mapping READY\n",
      "Coexpressed interactions READY\n"
     ],
     "output_type": "stream"
    },
    {
     "data": {
      "text/plain": "2421129"
     },
     "metadata": {},
     "output_type": "execute_result",
     "execution_count": 15
    }
   ],
   "source": [
    "reactome_ppis = reactome.get_ppis(500000)\n",
    "ppis = coxpresdb.get_ppis(reactome_ppis)\n",
    "len(flatten(ppis))"
   ],
   "metadata": {
    "collapsed": false,
    "pycharm": {
     "name": "#%%\n",
     "is_executing": false
    }
   }
  },
  {
   "cell_type": "code",
   "execution_count": 16,
   "outputs": [
    {
     "name": "stdout",
     "text": [
      "Reading Reactome unique interactions...\n",
      "Reactome interactions READY\n",
      "Intact interactions for  9606  READY\n",
      "Homo_sapiens_protein_interactions.tab  READY\nDrosophila_melanogaster_protein_interactions.tab  READY\nCaenorhabditis_elegans_protein_interactions.tab  READY\n",
      "Intact interactions for  4932  READY\nSaccharomyces_cerevisiae_protein_interactions.tab  READY\nACC --> P_ENTREZGENEID mapping READY\nCoexpressed interactions READY\n X_train:\t (50, 7) \ty_train:\t (50,) \n X_test:\t (50, 7) \ty_test:\t (50,)\n"
     ],
     "output_type": "stream"
    }
   ],
   "source": [
    "X_train, X_test, y_train, y_test =  toronto.load_data(num_ppis=100)\n",
    "print(\" X_train:\\t\", X_train.shape, \n",
    "      \"\\ty_train:\\t\", y_train.shape, \"\\n\",\n",
    "      \"X_test:\\t\", X_test.shape, \n",
    "      \"\\ty_test:\\t\", y_test.shape)"
   ],
   "metadata": {
    "collapsed": false,
    "pycharm": {
     "name": "#%% Load data\n",
     "is_executing": false
    }
   }
  },
  {
   "cell_type": "code",
   "execution_count": 19,
   "outputs": [
    {
     "data": {
      "text/plain": "    HUMAN PPI INTACT  HUMAN PPI BIOGRID  FLY PPI BIOGRID  WORM PPI BIOGRID  \\\n0                  0                  0                0                 0   \n1                  0                  0                0                 0   \n2                  1                  0                0                 0   \n3                  0                  0                0                 0   \n4                  0                  0                0                 0   \n..               ...                ...              ...               ...   \n95                 0                  0                0                 0   \n96                 0                  1                0                 0   \n97                 0                  1                0                 0   \n98                 0                  0                0                 0   \n99                 0                  1                0                 0   \n\n    YEAST PPI INTACT  YEAST PPI BIOGRID  COEXPRESSED  label  \n0                  0                  0            0    0.0  \n1                  0                  0            0    0.0  \n2                  0                  0            1    1.0  \n3                  0                  0            0    1.0  \n4                  0                  0            0    1.0  \n..               ...                ...          ...    ...  \n95                 0                  0            0    1.0  \n96                 0                  0            1    1.0  \n97                 0                  0            0    1.0  \n98                 0                  0            0    1.0  \n99                 0                  0            0    1.0  \n\n[100 rows x 8 columns]",
      "text/html": "<div>\n<style scoped>\n    .dataframe tbody tr th:only-of-type {\n        vertical-align: middle;\n    }\n\n    .dataframe tbody tr th {\n        vertical-align: top;\n    }\n\n    .dataframe thead th {\n        text-align: right;\n    }\n</style>\n<table border=\"1\" class=\"dataframe\">\n  <thead>\n    <tr style=\"text-align: right;\">\n      <th></th>\n      <th>HUMAN PPI INTACT</th>\n      <th>HUMAN PPI BIOGRID</th>\n      <th>FLY PPI BIOGRID</th>\n      <th>WORM PPI BIOGRID</th>\n      <th>YEAST PPI INTACT</th>\n      <th>YEAST PPI BIOGRID</th>\n      <th>COEXPRESSED</th>\n      <th>label</th>\n    </tr>\n  </thead>\n  <tbody>\n    <tr>\n      <td>0</td>\n      <td>0</td>\n      <td>0</td>\n      <td>0</td>\n      <td>0</td>\n      <td>0</td>\n      <td>0</td>\n      <td>0</td>\n      <td>0.0</td>\n    </tr>\n    <tr>\n      <td>1</td>\n      <td>0</td>\n      <td>0</td>\n      <td>0</td>\n      <td>0</td>\n      <td>0</td>\n      <td>0</td>\n      <td>0</td>\n      <td>0.0</td>\n    </tr>\n    <tr>\n      <td>2</td>\n      <td>1</td>\n      <td>0</td>\n      <td>0</td>\n      <td>0</td>\n      <td>0</td>\n      <td>0</td>\n      <td>1</td>\n      <td>1.0</td>\n    </tr>\n    <tr>\n      <td>3</td>\n      <td>0</td>\n      <td>0</td>\n      <td>0</td>\n      <td>0</td>\n      <td>0</td>\n      <td>0</td>\n      <td>0</td>\n      <td>1.0</td>\n    </tr>\n    <tr>\n      <td>4</td>\n      <td>0</td>\n      <td>0</td>\n      <td>0</td>\n      <td>0</td>\n      <td>0</td>\n      <td>0</td>\n      <td>0</td>\n      <td>1.0</td>\n    </tr>\n    <tr>\n      <td>...</td>\n      <td>...</td>\n      <td>...</td>\n      <td>...</td>\n      <td>...</td>\n      <td>...</td>\n      <td>...</td>\n      <td>...</td>\n      <td>...</td>\n    </tr>\n    <tr>\n      <td>95</td>\n      <td>0</td>\n      <td>0</td>\n      <td>0</td>\n      <td>0</td>\n      <td>0</td>\n      <td>0</td>\n      <td>0</td>\n      <td>1.0</td>\n    </tr>\n    <tr>\n      <td>96</td>\n      <td>0</td>\n      <td>1</td>\n      <td>0</td>\n      <td>0</td>\n      <td>0</td>\n      <td>0</td>\n      <td>1</td>\n      <td>1.0</td>\n    </tr>\n    <tr>\n      <td>97</td>\n      <td>0</td>\n      <td>1</td>\n      <td>0</td>\n      <td>0</td>\n      <td>0</td>\n      <td>0</td>\n      <td>0</td>\n      <td>1.0</td>\n    </tr>\n    <tr>\n      <td>98</td>\n      <td>0</td>\n      <td>0</td>\n      <td>0</td>\n      <td>0</td>\n      <td>0</td>\n      <td>0</td>\n      <td>0</td>\n      <td>1.0</td>\n    </tr>\n    <tr>\n      <td>99</td>\n      <td>0</td>\n      <td>1</td>\n      <td>0</td>\n      <td>0</td>\n      <td>0</td>\n      <td>0</td>\n      <td>0</td>\n      <td>1.0</td>\n    </tr>\n  </tbody>\n</table>\n<p>100 rows × 8 columns</p>\n</div>"
     },
     "metadata": {},
     "output_type": "execute_result",
     "execution_count": 19
    }
   ],
   "source": [
    "df = datasets.save(X_train, X_test, y_train, y_test, config.PATH_DATASETS, config.FILE_DATASET_TORONTO)\n",
    "df"
   ],
   "metadata": {
    "collapsed": false,
    "pycharm": {
     "name": "#%%\n",
     "is_executing": false
    }
   }
  },
  {
   "cell_type": "code",
   "execution_count": null,
   "outputs": [],
   "source": [
    "datasets.counts(df)"
   ],
   "metadata": {
    "collapsed": false,
    "pycharm": {
     "name": "#%%\n",
     "is_executing": false
    }
   }
  },
  {
   "cell_type": "code",
   "execution_count": null,
   "outputs": [],
   "source": [
    "#gnb = GaussianNB()"
   ],
   "metadata": {
    "collapsed": false,
    "pycharm": {
     "name": "#%% Create model\n",
     "is_executing": false
    }
   }
  },
  {
   "cell_type": "code",
   "execution_count": null,
   "outputs": [],
   "source": [
    "#gnb.fit(X_train, y_train)\n",
    "\n",
    "#y_pred = gnb.predict([[-0.8, -1]])"
   ],
   "metadata": {
    "collapsed": false,
    "pycharm": {
     "name": "#%% Train model\n",
     "is_executing": false
    }
   }
  },
  {
   "cell_type": "code",
   "execution_count": null,
   "outputs": [],
   "source": [
    "#print(\"Number of mislabeled points out of a total %d points : %d\"\n",
    "#      % (X_test.shape[0], (y_test != y_pred).sum()))"
   ],
   "metadata": {
    "collapsed": false,
    "pycharm": {
     "name": "#%% Evaluate model\n",
     "is_executing": false
    }
   }
  }
 ],
 "metadata": {
  "kernelspec": {
   "display_name": "Python 3",
   "language": "python",
   "name": "python3"
  },
  "language_info": {
   "codemirror_mode": {
    "name": "ipython",
    "version": 2
   },
   "file_extension": ".py",
   "mimetype": "text/x-python",
   "name": "python",
   "nbconvert_exporter": "python",
   "pygments_lexer": "ipython2",
   "version": "2.7.6"
  },
  "pycharm": {
   "stem_cell": {
    "cell_type": "raw",
    "source": [],
    "metadata": {
     "collapsed": false
    }
   }
  }
 },
 "nbformat": 4,
 "nbformat_minor": 0
}