{
 "cells": [
  {
   "cell_type": "code",
   "execution_count": 35,
   "metadata": {
    "collapsed": true,
    "pycharm": {
     "name": "#%% Import statements and flags\n",
     "is_executing": false
    }
   },
   "outputs": [
    {
     "data": {
      "text/plain": "<module 'src.Python.datasets.toronto' from 'C:\\\\git\\\\InteractionsClassification\\\\src\\\\Python\\\\datasets\\\\toronto.py'>"
     },
     "metadata": {},
     "output_type": "execute_result",
     "execution_count": 35
    }
   ],
   "source": [
    "import importlib\n",
    "\n",
    "from sklearn.naive_bayes import GaussianNB\n",
    "\n",
    "from src.Python import config\n",
    "from src.Python.datasets import toronto\n",
    "importlib.reload(config)\n",
    "importlib.reload(toronto)"
   ]
  },
  {
   "cell_type": "code",
   "execution_count": 36,
   "outputs": [
    {
     "name": "stdout",
     "text": [
      "Working directory: c:\\git\\interactionsclassification\n"
     ],
     "output_type": "stream"
    }
   ],
   "source": [
    "config.set_root_wd()"
   ],
   "metadata": {
    "collapsed": false,
    "pycharm": {
     "name": "#%% Set working directory to the root of repository\n",
     "is_executing": false
    }
   }
  },
  {
   "cell_type": "code",
   "execution_count": 37,
   "outputs": [
    {
     "name": "stdout",
     "text": [
      "Reading Reactome unique interactions...\n",
      "Reactome interactions READY\n"
     ],
     "output_type": "stream"
    },
    {
     "data": {
      "text/plain": "              0       1\n0    A0A075B6P5  P23083\n1    A0A075B6P5  Q96B97\n2    A0A075B6P5  P0DOY3\n3    A0A075B6P5  P01742\n4    A0A075B6P5  P02741\n..          ...     ...\n495  A0A0C4DH25  P01700\n496  A0A0C4DH25  P0CG04\n497  A0A0C4DH25  Q06187\n498  A0A0C4DH25  P20963\n499  A0A0C4DH25  Q5NV81\n\n[500 rows x 2 columns]",
      "text/html": "<div>\n<style scoped>\n    .dataframe tbody tr th:only-of-type {\n        vertical-align: middle;\n    }\n\n    .dataframe tbody tr th {\n        vertical-align: top;\n    }\n\n    .dataframe thead th {\n        text-align: right;\n    }\n</style>\n<table border=\"1\" class=\"dataframe\">\n  <thead>\n    <tr style=\"text-align: right;\">\n      <th></th>\n      <th>0</th>\n      <th>1</th>\n    </tr>\n  </thead>\n  <tbody>\n    <tr>\n      <td>0</td>\n      <td>A0A075B6P5</td>\n      <td>P23083</td>\n    </tr>\n    <tr>\n      <td>1</td>\n      <td>A0A075B6P5</td>\n      <td>Q96B97</td>\n    </tr>\n    <tr>\n      <td>2</td>\n      <td>A0A075B6P5</td>\n      <td>P0DOY3</td>\n    </tr>\n    <tr>\n      <td>3</td>\n      <td>A0A075B6P5</td>\n      <td>P01742</td>\n    </tr>\n    <tr>\n      <td>4</td>\n      <td>A0A075B6P5</td>\n      <td>P02741</td>\n    </tr>\n    <tr>\n      <td>...</td>\n      <td>...</td>\n      <td>...</td>\n    </tr>\n    <tr>\n      <td>495</td>\n      <td>A0A0C4DH25</td>\n      <td>P01700</td>\n    </tr>\n    <tr>\n      <td>496</td>\n      <td>A0A0C4DH25</td>\n      <td>P0CG04</td>\n    </tr>\n    <tr>\n      <td>497</td>\n      <td>A0A0C4DH25</td>\n      <td>Q06187</td>\n    </tr>\n    <tr>\n      <td>498</td>\n      <td>A0A0C4DH25</td>\n      <td>P20963</td>\n    </tr>\n    <tr>\n      <td>499</td>\n      <td>A0A0C4DH25</td>\n      <td>Q5NV81</td>\n    </tr>\n  </tbody>\n</table>\n<p>500 rows × 2 columns</p>\n</div>"
     },
     "metadata": {},
     "output_type": "execute_result",
     "execution_count": 37
    }
   ],
   "source": [
    "from src.Python.datasets import reactome\n",
    "from src.Python.lib.dictionaries import flatten_dictionary\n",
    "import pandas as pd\n",
    "\n",
    "ppis = reactome.get_ppis(500)\n",
    "df = pd.DataFrame(flatten_dictionary(ppis))\n",
    "#df[1] = df[1].transform(lambda x: next(iter(x)))\n",
    "df"
   ],
   "metadata": {
    "collapsed": false,
    "pycharm": {
     "name": "#%%\n",
     "is_executing": false
    }
   }
  },
  {
   "cell_type": "code",
   "execution_count": 38,
   "outputs": [
    {
     "name": "stdout",
     "text": [
      "Reading Reactome unique interactions...\n",
      "Reactome interactions READY\n X_train:\t (50, 7) y_train:\t (50,) \n X_test:\t (50, 7) y_test:\t (50,)\n"
     ],
     "output_type": "stream"
    }
   ],
   "source": [
    "(X_train, y_train), (X_test, y_test) =  toronto.load_data(num_ppis=100)\n",
    "print(\" X_train:\\t\", X_train.shape, \n",
    "      \"y_train:\\t\", y_train.shape, \"\\n\",\n",
    "      \"X_test:\\t\", X_test.shape, \n",
    "      \"y_test:\\t\", y_test.shape)\n"
   ],
   "metadata": {
    "collapsed": false,
    "pycharm": {
     "name": "#%% Load data\n",
     "is_executing": false
    }
   }
  },
  {
   "cell_type": "code",
   "execution_count": 39,
   "outputs": [],
   "source": [
    "#gnb = GaussianNB()"
   ],
   "metadata": {
    "collapsed": false,
    "pycharm": {
     "name": "#%% Create model\n",
     "is_executing": false
    }
   }
  },
  {
   "cell_type": "code",
   "execution_count": 40,
   "outputs": [],
   "source": [
    "#gnb.fit(X_train, y_train)\n",
    "\n",
    "#y_pred = gnb.predict([[-0.8, -1]])"
   ],
   "metadata": {
    "collapsed": false,
    "pycharm": {
     "name": "#%% Train model\n",
     "is_executing": false
    }
   }
  },
  {
   "cell_type": "code",
   "execution_count": 41,
   "outputs": [],
   "source": [
    "#print(\"Number of mislabeled points out of a total %d points : %d\"\n",
    "#      % (X_test.shape[0], (y_test != y_pred).sum()))\n"
   ],
   "metadata": {
    "collapsed": false,
    "pycharm": {
     "name": "#%% Evaluate model\n",
     "is_executing": false
    }
   }
  },
  {
   "cell_type": "code",
   "execution_count": 41,
   "outputs": [],
   "source": [
    "\n"
   ],
   "metadata": {
    "collapsed": false,
    "pycharm": {
     "name": "#%%\n",
     "is_executing": false
    }
   }
  }
 ],
 "metadata": {
  "kernelspec": {
   "display_name": "Python 3",
   "language": "python",
   "name": "python3"
  },
  "language_info": {
   "codemirror_mode": {
    "name": "ipython",
    "version": 2
   },
   "file_extension": ".py",
   "mimetype": "text/x-python",
   "name": "python",
   "nbconvert_exporter": "python",
   "pygments_lexer": "ipython2",
   "version": "2.7.6"
  },
  "pycharm": {
   "stem_cell": {
    "cell_type": "raw",
    "source": [],
    "metadata": {
     "collapsed": false
    }
   }
  }
 },
 "nbformat": 4,
 "nbformat_minor": 0
}